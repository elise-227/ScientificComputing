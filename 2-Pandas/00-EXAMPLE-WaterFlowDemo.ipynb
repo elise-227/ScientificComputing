{
 "cells": [
  {
   "cell_type": "markdown",
   "metadata": {},
   "source": [
    "# Quick start: Impacts of Falls Lake on streamflow...\n",
    "Recall from the Excel bootcamps session that the first step was to get the streamflow data into our working environment (Excel then, Python here) and tidy the data up. From there, we'd plot and summarize the data. \n",
    "\n",
    "The code snippets below hint at the power of Python code; just a few lines can cover a number of clicks, selection, right-clicks, copy/paste,... and we quickly have a plot of stream flow from data pulled remotely. \n",
    "\n",
    "This dense Python code, while effective, doesn't reveal key nuances in the language nor its flexibility. So, we'll dash through this example, and then we'll examine equvalent, less dense code that (1) exposes more about Python and is more \"Pythonic\" (a term we'll define soon...)"
   ]
  },
  {
   "cell_type": "markdown",
   "metadata": {},
   "source": [
    "### Preparing our script\n",
    "* First we import Pandas - a Python data analytics library."
   ]
  },
  {
   "cell_type": "code",
   "execution_count": 1,
   "metadata": {},
   "outputs": [],
   "source": [
    "#Import the Pandas library\n",
    "import pandas as pd"
   ]
  },
  {
   "cell_type": "markdown",
   "metadata": {},
   "source": [
    "### Getting & tidying the data\n",
    "* Next, we make a **request** to the the NWIS site hosting the data we want (using the **URL** formed when we queried the data in the Excel exercise). We store server's **response** as a Pandas **dataframe** named `df`. <font color=gray>(*There's a lot going on here that we'll dig into shortly...*)</font>"
   ]
  },
  {
   "cell_type": "code",
   "execution_count": 2,
   "metadata": {},
   "outputs": [],
   "source": [
    "#Retrieve the data directly into a Pandas data frame named 'df'\n",
    "url = ('http://waterservices.usgs.gov/nwis/dv/?' +\n",
    "       'format=rdb&' +\n",
    "       'sites=02087500&' +\n",
    "       'startDT=1930-10-01&' +\n",
    "       'endDT=2020-09-30&' +\n",
    "       'statCd=00003&' +\n",
    "       'parameterCd=00060&' +\n",
    "       'siteStatus=all')\n",
    "df = pd.read_csv(url,\n",
    "                 skiprows=31,\n",
    "                 sep='\\t',\n",
    "                 names=['agency_cd','site_no','datetime','MeanFlow_cfs','Confidence'],\n",
    "                 dtype={'site_no':'str'},\n",
    "                 parse_dates=['datetime'],\n",
    "                 index_col='datetime'\n",
    "                )"
   ]
  },
  {
   "cell_type": "code",
   "execution_count": 3,
   "metadata": {},
   "outputs": [
    {
     "data": {
      "text/html": [
       "<div>\n",
       "<style scoped>\n",
       "    .dataframe tbody tr th:only-of-type {\n",
       "        vertical-align: middle;\n",
       "    }\n",
       "\n",
       "    .dataframe tbody tr th {\n",
       "        vertical-align: top;\n",
       "    }\n",
       "\n",
       "    .dataframe thead th {\n",
       "        text-align: right;\n",
       "    }\n",
       "</style>\n",
       "<table border=\"1\" class=\"dataframe\">\n",
       "  <thead>\n",
       "    <tr style=\"text-align: right;\">\n",
       "      <th></th>\n",
       "      <th>agency_cd</th>\n",
       "      <th>site_no</th>\n",
       "      <th>MeanFlow_cfs</th>\n",
       "      <th>Confidence</th>\n",
       "    </tr>\n",
       "    <tr>\n",
       "      <th>datetime</th>\n",
       "      <th></th>\n",
       "      <th></th>\n",
       "      <th></th>\n",
       "      <th></th>\n",
       "    </tr>\n",
       "  </thead>\n",
       "  <tbody>\n",
       "    <tr>\n",
       "      <th>2020-09-26</th>\n",
       "      <td>USGS</td>\n",
       "      <td>02087500</td>\n",
       "      <td>2240.0</td>\n",
       "      <td>A</td>\n",
       "    </tr>\n",
       "    <tr>\n",
       "      <th>2020-09-27</th>\n",
       "      <td>USGS</td>\n",
       "      <td>02087500</td>\n",
       "      <td>1770.0</td>\n",
       "      <td>A</td>\n",
       "    </tr>\n",
       "    <tr>\n",
       "      <th>2020-09-28</th>\n",
       "      <td>USGS</td>\n",
       "      <td>02087500</td>\n",
       "      <td>1530.0</td>\n",
       "      <td>A</td>\n",
       "    </tr>\n",
       "    <tr>\n",
       "      <th>2020-09-29</th>\n",
       "      <td>USGS</td>\n",
       "      <td>02087500</td>\n",
       "      <td>1670.0</td>\n",
       "      <td>A</td>\n",
       "    </tr>\n",
       "    <tr>\n",
       "      <th>2020-09-30</th>\n",
       "      <td>USGS</td>\n",
       "      <td>02087500</td>\n",
       "      <td>4250.0</td>\n",
       "      <td>A</td>\n",
       "    </tr>\n",
       "  </tbody>\n",
       "</table>\n",
       "</div>"
      ],
      "text/plain": [
       "           agency_cd   site_no  MeanFlow_cfs Confidence\n",
       "datetime                                               \n",
       "2020-09-26      USGS  02087500        2240.0          A\n",
       "2020-09-27      USGS  02087500        1770.0          A\n",
       "2020-09-28      USGS  02087500        1530.0          A\n",
       "2020-09-29      USGS  02087500        1670.0          A\n",
       "2020-09-30      USGS  02087500        4250.0          A"
      ]
     },
     "execution_count": 3,
     "metadata": {},
     "output_type": "execute_result"
    }
   ],
   "source": [
    "#Show the last 5 rows of the data frame\n",
    "df.tail()"
   ]
  },
  {
   "cell_type": "markdown",
   "metadata": {},
   "source": [
    "### Plotting the data\n",
    "Ok, we now have a local copy of the data, let's plot it!"
   ]
  },
  {
   "cell_type": "code",
   "execution_count": null,
   "metadata": {},
   "outputs": [],
   "source": [
    "#This statements enables plots in our Jupyter notebook\n",
    "%matplotlib inline"
   ]
  },
  {
   "cell_type": "code",
   "execution_count": null,
   "metadata": {},
   "outputs": [],
   "source": [
    "#Plot the data: Start with data up to 1980\n",
    "ax = df[:'1979-12-31']['MeanFlow_cfs'].plot(title=\"Neuse River near Clayton\",\n",
    "                                            linewidth=0.5,\n",
    "                                            figsize=(12,5),\n",
    "                                            fontsize=18)\n",
    "#...add the data from 1984 on\n",
    "df['1984-01-01':]['MeanFlow_cfs'].plot(linewidth=0.5)\n",
    "\n",
    "#...add some aesthetics\n",
    "ax.set_ylabel(\"Mean flow (cfs)\",fontsize=18)\n",
    "ax.set_xlabel(\"Year\",fontsize=18);"
   ]
  },
  {
   "cell_type": "markdown",
   "metadata": {},
   "source": [
    "### Summarizing the data"
   ]
  },
  {
   "cell_type": "code",
   "execution_count": null,
   "metadata": {},
   "outputs": [],
   "source": [
    "df.describe()"
   ]
  },
  {
   "cell_type": "code",
   "execution_count": null,
   "metadata": {},
   "outputs": [],
   "source": [
    "dfSummary = pd.concat((df.describe(),\n",
    "                       df[:'1979-12-31'].describe(),\n",
    "                       df['1984-01-01':].describe()),\n",
    "                      axis='columns')\n",
    "dfSummary.columns = ('All','1930-1980','1984-2017')\n",
    "dfSummary"
   ]
  },
  {
   "cell_type": "code",
   "execution_count": null,
   "metadata": {},
   "outputs": [],
   "source": [
    "#Create a month field and plot values by month\n",
    "df['Month'] = df.index.month\n",
    "df.boxplot(column='MeanFlow_cfs',by='Month',figsize=(20,5));"
   ]
  },
  {
   "cell_type": "markdown",
   "metadata": {},
   "source": [
    "### Boom! That was fast! \n",
    "But code written this tersely overlooks three key elements. \n",
    "- First, it's a bit hard to learn from; there's a lot going on here that's masked by compound statements. \n",
    "- Second, while effective, the code is note easily re-used. What if we wanted to do a similar analysis for a another gage site? It can be done, but it's not as easy as it could be. \n",
    "- And third, a key feature of Python code is that it's readable (when written correctly). This code is not as readable as good Python code should be.<br>**Try adding a new code box below and run the statement `import this`...**\n",
    "\n",
    "*So, let's revisit these procedures, but more slowly and deliberately so that we might actually learn a thing or two...*"
   ]
  }
 ],
 "metadata": {
  "kernelspec": {
   "display_name": "Python 3",
   "language": "python",
   "name": "python3"
  },
  "language_info": {
   "codemirror_mode": {
    "name": "ipython",
    "version": 3
   },
   "file_extension": ".py",
   "mimetype": "text/x-python",
   "name": "python",
   "nbconvert_exporter": "python",
   "pygments_lexer": "ipython3",
   "version": "3.9.11"
  }
 },
 "nbformat": 4,
 "nbformat_minor": 2
}
